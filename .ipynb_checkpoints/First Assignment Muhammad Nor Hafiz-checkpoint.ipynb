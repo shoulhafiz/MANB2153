{
 "cells": [
  {
   "cell_type": "markdown",
   "metadata": {},
   "source": [
    "# Muhammad Nor Hafiz\n",
    "## List a few definitions of Machine Learning, and examples of application. Write in paragraphss at Jupyter Notebook\n",
    "Upload your Jupyter Notebook file at your github"
   ]
  },
  {
   "cell_type": "markdown",
   "metadata": {},
   "source": [
    "Definition of Machine Learning (3):\n",
    "    1.provides systems the ability to automatically learn and improve from experience without being explicitly programmed.\n",
    "    2. use machine learning to a degree to make repeatable decisions, perform specific tasks and independently adapt with little to no human interaction\n",
    "    3.getting machines to learn and act in a similar way to humans while also autonomously learning from real-world interactions and sets of teaching data that we feed them."
   ]
  },
  {
   "cell_type": "markdown",
   "metadata": {},
   "source": [
    "Examples of ML Applications (5):\n",
    "    1. Deep learning approach for cancer detection and relevant gene identification\n",
    "    2. Financial statement fraud detection: An analysis of statistical and machine learning algorithms\n",
    "    3. Intelligent E-marketing with web mining, personalization, and user-adpated interfaces\n",
    "    4. The netflix recommender system\n",
    "    5. machine learning for cyber security intrusion detection"
   ]
  },
  {
   "cell_type": "markdown",
   "metadata": {},
   "source": [
    "## References\n",
    "1. Danaee, P., Ghaeini, R., & Hendrix, D. A. (2017). A deep learning approach for cancer detection and relevant gene identification. In PACIFIC SYMPOSIUM ON BIOCOMPUTING 2017 (pp. 219-229).\n",
    "2. Perols, J. (2011). Financial statement fraud detection: An analysis of statistical and machine learning algorithms. Auditing: A Journal of Practice & Theory, 30(2), 19-50.\n",
    "3. Perner, P., & Fiss, G. (2002). Intelligent E-marketing with web mining, personalization, and user-adpated interfaces. In Advances in data mining (pp. 37-52). Springer, Berlin, Heidelberg.\n",
    "4. Gomez-Uribe, C. A., & Hunt, N. (2016). The netflix recommender system: Algorithms, business value, and innovation. ACM Transactions on Management Information Systems (TMIS), 6(4), 13.\n",
    "5. Buczak, A. L., & Guven, E. (2016). A survey of data mining and machine learning methods for cyber security intrusion detection. IEEE Communications Surveys & Tutorials, 18(2), 1153-1176."
   ]
  }
 ],
 "metadata": {
  "kernelspec": {
   "display_name": "Python 3",
   "language": "python",
   "name": "python3"
  },
  "language_info": {
   "codemirror_mode": {
    "name": "ipython",
    "version": 3
   },
   "file_extension": ".py",
   "mimetype": "text/x-python",
   "name": "python",
   "nbconvert_exporter": "python",
   "pygments_lexer": "ipython3",
   "version": "3.7.1"
  }
 },
 "nbformat": 4,
 "nbformat_minor": 2
}
