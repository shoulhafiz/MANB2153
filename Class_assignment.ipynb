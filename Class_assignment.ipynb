{
  "nbformat": 4,
  "nbformat_minor": 0,
  "metadata": {
    "colab": {
      "name": "Untitled3.ipynb",
      "version": "0.3.2",
      "provenance": [],
      "include_colab_link": true
    },
    "kernelspec": {
      "name": "python3",
      "display_name": "Python 3"
    }
  },
  "cells": [
    {
      "cell_type": "markdown",
      "metadata": {
        "id": "view-in-github",
        "colab_type": "text"
      },
      "source": [
        "<a href=\"https://colab.research.google.com/github/shoulhafiz/MANB2153/blob/master/Class_assignment.ipynb\" target=\"_parent\"><img src=\"https://colab.research.google.com/assets/colab-badge.svg\" alt=\"Open In Colab\"/></a>"
      ]
    },
    {
      "metadata": {
        "id": "wrhXb6TVt4Vf",
        "colab_type": "code",
        "colab": {}
      },
      "cell_type": "code",
      "source": [
        "from sklearn.datasets import load_iris\n",
        "import keras\n",
        "from keras.models import Sequential\n",
        "from keras.layers import Dense, Dropout, Activation\n",
        "from keras.optimizers import SGD\n",
        "from sklearn.model_selection import train_test_split\n",
        "from keras.utils import to_categorical"
      ],
      "execution_count": 0,
      "outputs": []
    },
    {
      "metadata": {
        "id": "0SQpvnluuM9u",
        "colab_type": "code",
        "colab": {}
      },
      "cell_type": "code",
      "source": [
        "# Generate dummy data\n",
        "#import numpy as np\n",
        "iris = load_iris()\n",
        "y = to_categorical(iris['target'])\n",
        "X = iris.data\n",
        "x_train, x_test, y_train, y_test = train_test_split(X, y, test_size = 0.3)"
      ],
      "execution_count": 0,
      "outputs": []
    },
    {
      "metadata": {
        "id": "AM_c-egNu334",
        "colab_type": "code",
        "colab": {
          "base_uri": "https://localhost:8080/",
          "height": 745
        },
        "outputId": "2343d1bf-04fb-4661-e905-aa4ccaf2fb4c"
      },
      "cell_type": "code",
      "source": [
        "\n",
        "model = Sequential()\n",
        "# Dense(64) is a fully-connected layer with 64 hidden units.\n",
        "# in the first layer, you must specify the expected input data shape:\n",
        "# here, 20-dimensional vectors.\n",
        "model.add(Dense(64, activation='relu', input_dim=4))\n",
        "model.add(Dropout(0.5))\n",
        "model.add(Dense(64, activation='relu'))\n",
        "model.add(Dropout(0.5))\n",
        "model.add(Dense(3, activation='softmax'))\n",
        "\n",
        "sgd = SGD(lr=0.01, decay=1e-6, momentum=0.9, nesterov=True)\n",
        "model.compile(loss='categorical_crossentropy',\n",
        "              optimizer=sgd,\n",
        "              metrics=['accuracy'])\n",
        "\n",
        "model.fit(x_train, y_train,\n",
        "          epochs=20,\n",
        "          batch_size=128)\n",
        "score = model.evaluate(x_test, y_test, batch_size=128)"
      ],
      "execution_count": 24,
      "outputs": [
        {
          "output_type": "stream",
          "text": [
            "Epoch 1/20\n",
            "105/105 [==============================] - 0s 2ms/step - loss: 1.7928 - acc: 0.3524\n",
            "Epoch 2/20\n",
            "105/105 [==============================] - 0s 50us/step - loss: 1.8108 - acc: 0.2667\n",
            "Epoch 3/20\n",
            "105/105 [==============================] - 0s 33us/step - loss: 1.4333 - acc: 0.3429\n",
            "Epoch 4/20\n",
            "105/105 [==============================] - 0s 31us/step - loss: 1.3946 - acc: 0.3905\n",
            "Epoch 5/20\n",
            "105/105 [==============================] - 0s 18us/step - loss: 1.3424 - acc: 0.3333\n",
            "Epoch 6/20\n",
            "105/105 [==============================] - 0s 18us/step - loss: 1.2240 - acc: 0.3714\n",
            "Epoch 7/20\n",
            "105/105 [==============================] - 0s 18us/step - loss: 1.2220 - acc: 0.3905\n",
            "Epoch 8/20\n",
            "105/105 [==============================] - 0s 16us/step - loss: 1.1180 - acc: 0.4571\n",
            "Epoch 9/20\n",
            "105/105 [==============================] - 0s 51us/step - loss: 1.0894 - acc: 0.4667\n",
            "Epoch 10/20\n",
            "105/105 [==============================] - 0s 14us/step - loss: 1.0270 - acc: 0.4667\n",
            "Epoch 11/20\n",
            "105/105 [==============================] - 0s 17us/step - loss: 0.9584 - acc: 0.4762\n",
            "Epoch 12/20\n",
            "105/105 [==============================] - 0s 21us/step - loss: 1.0110 - acc: 0.4857\n",
            "Epoch 13/20\n",
            "105/105 [==============================] - 0s 17us/step - loss: 0.9251 - acc: 0.5333\n",
            "Epoch 14/20\n",
            "105/105 [==============================] - 0s 23us/step - loss: 0.9007 - acc: 0.5524\n",
            "Epoch 15/20\n",
            "105/105 [==============================] - 0s 22us/step - loss: 0.8723 - acc: 0.6286\n",
            "Epoch 16/20\n",
            "105/105 [==============================] - 0s 36us/step - loss: 0.8636 - acc: 0.6095\n",
            "Epoch 17/20\n",
            "105/105 [==============================] - 0s 23us/step - loss: 0.8658 - acc: 0.5524\n",
            "Epoch 18/20\n",
            "105/105 [==============================] - 0s 29us/step - loss: 0.8316 - acc: 0.6000\n",
            "Epoch 19/20\n",
            "105/105 [==============================] - 0s 32us/step - loss: 0.8353 - acc: 0.6190\n",
            "Epoch 20/20\n",
            "105/105 [==============================] - 0s 47us/step - loss: 0.8853 - acc: 0.5905\n",
            "45/45 [==============================] - 0s 2ms/step\n"
          ],
          "name": "stdout"
        }
      ]
    }
  ]
}