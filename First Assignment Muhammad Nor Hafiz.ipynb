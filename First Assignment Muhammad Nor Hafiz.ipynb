{
 "cells": [
  {
   "cell_type": "markdown",
   "metadata": {},
   "source": [
    "# Muhammad Nor Hafiz\n",
    "## List a few definitions of Machine Learning, and examples of application. Write in paragraphss at Jupyter Notebook\n",
    "Upload your Jupyter Notebook file at your github"
   ]
  },
  {
   "cell_type": "markdown",
   "metadata": {},
   "source": [
    "Definition of Machine Learning (3):\n",
    "    1.provides systems the ability to automatically learn and improve from experience without being explicitly programmed.\n",
    "    2. use machine learning to a degree to make repeatable decisions, perform specific tasks and independently adapt with little to no human interaction\n",
    "    3.getting machines to learn and act in a similar way to humans while also autonomously learning from real-world interactions and sets of teaching data that we feed them."
   ]
  },
  {
   "cell_type": "markdown",
   "metadata": {},
   "source": [
    "Examples of ML Applications (5):\n",
    "    1. Data Security - Malware recognition\n",
    "    2. Financial Trading - Patterns and Prediction\n",
    "    3. Marketing Personalization - Target based advertisment\n",
    "    4. Fraud Analysis\n",
    "    5. Recommender System"
   ]
  },
  {
   "cell_type": "markdown",
   "metadata": {},
   "source": [
    "## References\n",
    "1. https://www.forcepoint.com/cyber-edu/machine-learning"
   ]
  }
 ],
 "metadata": {
  "kernelspec": {
   "display_name": "Python 3",
   "language": "python",
   "name": "python3"
  },
  "language_info": {
   "codemirror_mode": {
    "name": "ipython",
    "version": 3
   },
   "file_extension": ".py",
   "mimetype": "text/x-python",
   "name": "python",
   "nbconvert_exporter": "python",
   "pygments_lexer": "ipython3",
   "version": "3.7.1"
  }
 },
 "nbformat": 4,
 "nbformat_minor": 2
}
