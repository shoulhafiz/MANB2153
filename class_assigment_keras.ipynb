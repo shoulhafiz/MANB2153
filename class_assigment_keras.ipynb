{
  "nbformat": 4,
  "nbformat_minor": 0,
  "metadata": {
    "colab": {
      "name": "class_assigment.ipynb",
      "version": "0.3.2",
      "provenance": [],
      "include_colab_link": true
    },
    "kernelspec": {
      "name": "python3",
      "display_name": "Python 3"
    }
  },
  "cells": [
    {
      "cell_type": "markdown",
      "metadata": {
        "id": "view-in-github",
        "colab_type": "text"
      },
      "source": [
        "<a href=\"https://colab.research.google.com/github/shoulhafiz/MANB2153/blob/master/class_assigment_keras.ipynb\" target=\"_parent\"><img src=\"https://colab.research.google.com/assets/colab-badge.svg\" alt=\"Open In Colab\"/></a>"
      ]
    },
    {
      "metadata": {
        "id": "PWQZyZK5hDsW",
        "colab_type": "code",
        "colab": {}
      },
      "cell_type": "code",
      "source": [
        "# Import necessary modules\n",
        "import keras\n",
        "from keras.layers import Dense\n",
        "from keras.models import Sequential\n",
        "import pandas as pd\n",
        "\n",
        "df = pd.read_csv('sample_data/california_housing_train.csv')\n",
        "#df.sample(3)\n",
        "predictors = df.drop('median_house_value', axis=1)\n",
        "target = df.median_house_value"
      ],
      "execution_count": 0,
      "outputs": []
    },
    {
      "metadata": {
        "id": "xgx8SHvGlvUT",
        "colab_type": "code",
        "colab": {}
      },
      "cell_type": "code",
      "source": [
        "# Save the number of columns in predictors: n_cols\n",
        "n_cols = predictors.shape[1]\n",
        "\n",
        "# Set up the model: model\n",
        "model = Sequential()\n",
        "\n",
        "# Add the first layer\n",
        "model.add(Dense(50, activation='relu', input_shape=(n_cols,)))\n",
        "\n",
        "# Add the second layer\n",
        "model.add(Dense(32, activation='relu'))\n",
        "\n",
        "# Add the output layer\n",
        "model.add(Dense(1))"
      ],
      "execution_count": 0,
      "outputs": []
    },
    {
      "metadata": {
        "id": "DKF7rtYTj52_",
        "colab_type": "code",
        "colab": {
          "base_uri": "https://localhost:8080/",
          "height": 34
        },
        "outputId": "9c7da360-3731-4846-9dc1-dbf55a924964"
      },
      "cell_type": "code",
      "source": [
        "model.compile(optimizer='adam', loss='mean_squared_error')\n",
        "print(\"Loss function: \" + model.loss)"
      ],
      "execution_count": 26,
      "outputs": [
        {
          "output_type": "stream",
          "text": [
            "Loss function: mean_squared_error\n"
          ],
          "name": "stdout"
        }
      ]
    },
    {
      "metadata": {
        "id": "kM0tq0B5kkPu",
        "colab_type": "code",
        "colab": {
          "base_uri": "https://localhost:8080/",
          "height": 212
        },
        "outputId": "63a40c02-cc4f-46b8-ec4d-19e6c0f42ce9"
      },
      "cell_type": "code",
      "source": [
        "model.fit(predictors,target, epochs = 5)"
      ],
      "execution_count": 29,
      "outputs": [
        {
          "output_type": "stream",
          "text": [
            "Epoch 1/5\n",
            "17000/17000 [==============================] - 1s 34us/step - loss: 25556838493.4852\n",
            "Epoch 2/5\n",
            "17000/17000 [==============================] - 1s 32us/step - loss: 22841367021.4475\n",
            "Epoch 3/5\n",
            "17000/17000 [==============================] - 1s 34us/step - loss: 18034349094.0687\n",
            "Epoch 4/5\n",
            "17000/17000 [==============================] - 1s 32us/step - loss: 12991418505.3365\n",
            "Epoch 5/5\n",
            "17000/17000 [==============================] - 1s 30us/step - loss: 11275304193.5661\n"
          ],
          "name": "stdout"
        },
        {
          "output_type": "execute_result",
          "data": {
            "text/plain": [
              "<keras.callbacks.History at 0x7f5eb337db38>"
            ]
          },
          "metadata": {
            "tags": []
          },
          "execution_count": 29
        }
      ]
    }
  ]
}