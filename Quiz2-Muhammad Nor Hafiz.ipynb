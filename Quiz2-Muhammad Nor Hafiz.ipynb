{
  "nbformat": 4,
  "nbformat_minor": 0,
  "metadata": {
    "colab": {
      "name": "Untitled1.ipynb",
      "version": "0.3.2",
      "provenance": [],
      "include_colab_link": true
    },
    "kernelspec": {
      "name": "python3",
      "display_name": "Python 3"
    }
  },
  "cells": [
    {
      "cell_type": "markdown",
      "metadata": {
        "id": "view-in-github",
        "colab_type": "text"
      },
      "source": [
        "<a href=\"https://colab.research.google.com/github/shoulhafiz/MANB2153/blob/master/Quiz2-Muhammad%20Nor%20Hafiz.ipynb\" target=\"_parent\"><img src=\"https://colab.research.google.com/assets/colab-badge.svg\" alt=\"Open In Colab\"/></a>"
      ]
    },
    {
      "metadata": {
        "id": "FfStgh_kjdUW",
        "colab_type": "code",
        "colab": {
          "base_uri": "https://localhost:8080/",
          "height": 34
        },
        "outputId": "6ac44760-f5d4-4e2e-ab82-38077351cb8e"
      },
      "cell_type": "code",
      "source": [
        "import keras\n",
        "from keras.models import Sequential\n",
        "from keras.layers import Dense, Dropout, Activation\n",
        "from keras.optimizers import SGD\n",
        "from sklearn.model_selection import train_test_split\n",
        "from keras.utils import to_categorical\n",
        "import pandas as pd"
      ],
      "execution_count": 1,
      "outputs": [
        {
          "output_type": "stream",
          "text": [
            "Using TensorFlow backend.\n"
          ],
          "name": "stderr"
        }
      ]
    },
    {
      "metadata": {
        "id": "pqiFlYXUnuQo",
        "colab_type": "code",
        "colab": {
          "base_uri": "https://localhost:8080/",
          "height": 142
        },
        "outputId": "43cf1ddb-9333-47ed-93e7-b7ed1e231528"
      },
      "cell_type": "code",
      "source": [
        "df = pd.read_csv('heart.csv')\n",
        "df.sample(3)"
      ],
      "execution_count": 3,
      "outputs": [
        {
          "output_type": "execute_result",
          "data": {
            "text/html": [
              "<div>\n",
              "<style scoped>\n",
              "    .dataframe tbody tr th:only-of-type {\n",
              "        vertical-align: middle;\n",
              "    }\n",
              "\n",
              "    .dataframe tbody tr th {\n",
              "        vertical-align: top;\n",
              "    }\n",
              "\n",
              "    .dataframe thead th {\n",
              "        text-align: right;\n",
              "    }\n",
              "</style>\n",
              "<table border=\"1\" class=\"dataframe\">\n",
              "  <thead>\n",
              "    <tr style=\"text-align: right;\">\n",
              "      <th></th>\n",
              "      <th>age</th>\n",
              "      <th>sex</th>\n",
              "      <th>cp</th>\n",
              "      <th>trestbps</th>\n",
              "      <th>chol</th>\n",
              "      <th>fbs</th>\n",
              "      <th>restecg</th>\n",
              "      <th>thalach</th>\n",
              "      <th>exang</th>\n",
              "      <th>oldpeak</th>\n",
              "      <th>slope</th>\n",
              "      <th>ca</th>\n",
              "      <th>thal</th>\n",
              "      <th>target</th>\n",
              "    </tr>\n",
              "  </thead>\n",
              "  <tbody>\n",
              "    <tr>\n",
              "      <th>81</th>\n",
              "      <td>45</td>\n",
              "      <td>1</td>\n",
              "      <td>1</td>\n",
              "      <td>128</td>\n",
              "      <td>308</td>\n",
              "      <td>0</td>\n",
              "      <td>0</td>\n",
              "      <td>170</td>\n",
              "      <td>0</td>\n",
              "      <td>0.0</td>\n",
              "      <td>2</td>\n",
              "      <td>0</td>\n",
              "      <td>2</td>\n",
              "      <td>1</td>\n",
              "    </tr>\n",
              "    <tr>\n",
              "      <th>220</th>\n",
              "      <td>63</td>\n",
              "      <td>0</td>\n",
              "      <td>0</td>\n",
              "      <td>150</td>\n",
              "      <td>407</td>\n",
              "      <td>0</td>\n",
              "      <td>0</td>\n",
              "      <td>154</td>\n",
              "      <td>0</td>\n",
              "      <td>4.0</td>\n",
              "      <td>1</td>\n",
              "      <td>3</td>\n",
              "      <td>3</td>\n",
              "      <td>0</td>\n",
              "    </tr>\n",
              "    <tr>\n",
              "      <th>268</th>\n",
              "      <td>54</td>\n",
              "      <td>1</td>\n",
              "      <td>0</td>\n",
              "      <td>122</td>\n",
              "      <td>286</td>\n",
              "      <td>0</td>\n",
              "      <td>0</td>\n",
              "      <td>116</td>\n",
              "      <td>1</td>\n",
              "      <td>3.2</td>\n",
              "      <td>1</td>\n",
              "      <td>2</td>\n",
              "      <td>2</td>\n",
              "      <td>0</td>\n",
              "    </tr>\n",
              "  </tbody>\n",
              "</table>\n",
              "</div>"
            ],
            "text/plain": [
              "     age  sex  cp  trestbps  chol  fbs  restecg  thalach  exang  oldpeak  \\\n",
              "81    45    1   1       128   308    0        0      170      0      0.0   \n",
              "220   63    0   0       150   407    0        0      154      0      4.0   \n",
              "268   54    1   0       122   286    0        0      116      1      3.2   \n",
              "\n",
              "     slope  ca  thal  target  \n",
              "81       2   0     2       1  \n",
              "220      1   3     3       0  \n",
              "268      1   2     2       0  "
            ]
          },
          "metadata": {
            "tags": []
          },
          "execution_count": 3
        }
      ]
    },
    {
      "metadata": {
        "id": "PrtcP2ISoo6B",
        "colab_type": "code",
        "colab": {
          "base_uri": "https://localhost:8080/",
          "height": 170
        },
        "outputId": "3666b192-4dfd-4c70-887d-4892a22e0eab"
      },
      "cell_type": "code",
      "source": [
        "y = to_categorical(df.target)\n",
        "X = df.drop('target', axis=1)\n",
        "print(\"X:\",X.sample(3))"
      ],
      "execution_count": 19,
      "outputs": [
        {
          "output_type": "stream",
          "text": [
            "X:      age  sex  cp  trestbps  chol  fbs  restecg  thalach  exang  oldpeak  \\\n",
            "152   64    1   3       170   227    0        0      155      0      0.6   \n",
            "145   70    1   1       156   245    0        0      143      0      0.0   \n",
            "265   66    1   0       112   212    0        0      132      1      0.1   \n",
            "\n",
            "     slope  ca  thal  \n",
            "152      1   0     3  \n",
            "145      2   0     2  \n",
            "265      2   1     2  \n"
          ],
          "name": "stdout"
        }
      ]
    },
    {
      "metadata": {
        "id": "lx_3UCHYqJDw",
        "colab_type": "code",
        "colab": {}
      },
      "cell_type": "code",
      "source": [
        ""
      ],
      "execution_count": 0,
      "outputs": []
    },
    {
      "metadata": {
        "id": "ESdTKCxmqJWk",
        "colab_type": "code",
        "colab": {}
      },
      "cell_type": "code",
      "source": [
        "x_train, x_test, y_train, y_test = train_test_split(X, y, test_size = 0.3)"
      ],
      "execution_count": 0,
      "outputs": []
    },
    {
      "metadata": {
        "id": "4TkSNGk1rj-t",
        "colab_type": "code",
        "colab": {
          "base_uri": "https://localhost:8080/",
          "height": 714
        },
        "outputId": "404e1187-2b26-4801-8240-8075306e85c1"
      },
      "cell_type": "code",
      "source": [
        "n_cols = X.shape[1]\n",
        "model = Sequential()\n",
        "# Dense(64) is a fully-connected layer with 64 hidden units.\n",
        "# in the first layer, you must specify the expected input data shape:\n",
        "# here, 20-dimensional vectors.\n",
        "model.add(Dense(64, activation='relu', input_shape=(n_cols,)))\n",
        "model.add(Dropout(0.5))\n",
        "model.add(Dense(64, activation='relu'))\n",
        "model.add(Dropout(0.5))\n",
        "model.add(Dense(2, activation='softmax'))\n",
        "\n",
        "sgd = SGD(lr=0.01, decay=1e-6, momentum=0.9, nesterov=True)\n",
        "model.compile(loss='categorical_crossentropy',\n",
        "              optimizer=sgd,\n",
        "              metrics=['accuracy'])\n",
        "\n",
        "model.fit(x_train, y_train,\n",
        "          epochs=20,\n",
        "          batch_size=128)\n",
        "score = model.evaluate(x_test, y_test, batch_size=128)"
      ],
      "execution_count": 25,
      "outputs": [
        {
          "output_type": "stream",
          "text": [
            "Epoch 1/20\n",
            "212/212 [==============================] - 0s 2ms/step - loss: 7.7031 - acc: 0.5047\n",
            "Epoch 2/20\n",
            "212/212 [==============================] - 0s 52us/step - loss: 8.2255 - acc: 0.4623\n",
            "Epoch 3/20\n",
            "212/212 [==============================] - 0s 36us/step - loss: 8.4638 - acc: 0.4670\n",
            "Epoch 4/20\n",
            "212/212 [==============================] - 0s 35us/step - loss: 8.4768 - acc: 0.4717\n",
            "Epoch 5/20\n",
            "212/212 [==============================] - 0s 46us/step - loss: 7.6216 - acc: 0.5189\n",
            "Epoch 6/20\n",
            "212/212 [==============================] - 0s 47us/step - loss: 7.6034 - acc: 0.5236\n",
            "Epoch 7/20\n",
            "212/212 [==============================] - 0s 35us/step - loss: 7.1333 - acc: 0.5566\n",
            "Epoch 8/20\n",
            "212/212 [==============================] - 0s 33us/step - loss: 8.9973 - acc: 0.4387\n",
            "Epoch 9/20\n",
            "212/212 [==============================] - 0s 29us/step - loss: 8.8954 - acc: 0.4481\n",
            "Epoch 10/20\n",
            "212/212 [==============================] - 0s 32us/step - loss: 8.2111 - acc: 0.4906\n",
            "Epoch 11/20\n",
            "212/212 [==============================] - 0s 51us/step - loss: 7.4508 - acc: 0.5377\n",
            "Epoch 12/20\n",
            "212/212 [==============================] - 0s 36us/step - loss: 7.8310 - acc: 0.5142\n",
            "Epoch 13/20\n",
            "212/212 [==============================] - 0s 32us/step - loss: 7.9830 - acc: 0.5047\n",
            "Epoch 14/20\n",
            "212/212 [==============================] - 0s 43us/step - loss: 8.8193 - acc: 0.4528\n",
            "Epoch 15/20\n",
            "212/212 [==============================] - 0s 40us/step - loss: 7.6029 - acc: 0.5283\n",
            "Epoch 16/20\n",
            "212/212 [==============================] - 0s 31us/step - loss: 7.9830 - acc: 0.5047\n",
            "Epoch 17/20\n",
            "212/212 [==============================] - 0s 28us/step - loss: 8.1351 - acc: 0.4953\n",
            "Epoch 18/20\n",
            "212/212 [==============================] - 0s 29us/step - loss: 8.0590 - acc: 0.5000\n",
            "Epoch 19/20\n",
            "212/212 [==============================] - 0s 25us/step - loss: 7.8310 - acc: 0.5142\n",
            "Epoch 20/20\n",
            "212/212 [==============================] - 0s 25us/step - loss: 8.2871 - acc: 0.4858\n",
            "91/91 [==============================] - 0s 2ms/step\n"
          ],
          "name": "stdout"
        }
      ]
    }
  ]
}