{
  "nbformat": 4,
  "nbformat_minor": 0,
  "metadata": {
    "colab": {
      "name": "Untitled1.ipynb",
      "version": "0.3.2",
      "provenance": [],
      "include_colab_link": true
    },
    "kernelspec": {
      "name": "python3",
      "display_name": "Python 3"
    }
  },
  "cells": [
    {
      "cell_type": "markdown",
      "metadata": {
        "id": "view-in-github",
        "colab_type": "text"
      },
      "source": [
        "<a href=\"https://colab.research.google.com/github/shoulhafiz/MANB2153/blob/master/Quiz2-Muhammad%20Nor%20Hafiz.ipynb\" target=\"_parent\"><img src=\"https://colab.research.google.com/assets/colab-badge.svg\" alt=\"Open In Colab\"/></a>"
      ]
    },
    {
      "metadata": {
        "id": "FfStgh_kjdUW",
        "colab_type": "code",
        "colab": {
          "base_uri": "https://localhost:8080/",
          "height": 34
        },
        "outputId": "6ac44760-f5d4-4e2e-ab82-38077351cb8e"
      },
      "cell_type": "code",
      "source": [
        "import keras\n",
        "from keras.models import Sequential\n",
        "from keras.layers import Dense, Dropout, Activation\n",
        "from keras.optimizers import SGD\n",
        "from sklearn.model_selection import train_test_split\n",
        "from keras.utils import to_categorical\n",
        "import pandas as pd"
      ],
      "execution_count": 1,
      "outputs": [
        {
          "output_type": "stream",
          "text": [
            "Using TensorFlow backend.\n"
          ],
          "name": "stderr"
        }
      ]
    },
    {
      "metadata": {
        "id": "pqiFlYXUnuQo",
        "colab_type": "code",
        "colab": {
          "base_uri": "https://localhost:8080/",
          "height": 142
        },
        "outputId": "43cf1ddb-9333-47ed-93e7-b7ed1e231528"
      },
      "cell_type": "code",
      "source": [
        "df = pd.read_csv('heart.csv')\n",
        "df.sample(3)"
      ],
      "execution_count": 3,
      "outputs": [
        {
          "output_type": "execute_result",
          "data": {
            "text/html": [
              "<div>\n",
              "<style scoped>\n",
              "    .dataframe tbody tr th:only-of-type {\n",
              "        vertical-align: middle;\n",
              "    }\n",
              "\n",
              "    .dataframe tbody tr th {\n",
              "        vertical-align: top;\n",
              "    }\n",
              "\n",
              "    .dataframe thead th {\n",
              "        text-align: right;\n",
              "    }\n",
              "</style>\n",
              "<table border=\"1\" class=\"dataframe\">\n",
              "  <thead>\n",
              "    <tr style=\"text-align: right;\">\n",
              "      <th></th>\n",
              "      <th>age</th>\n",
              "      <th>sex</th>\n",
              "      <th>cp</th>\n",
              "      <th>trestbps</th>\n",
              "      <th>chol</th>\n",
              "      <th>fbs</th>\n",
              "      <th>restecg</th>\n",
              "      <th>thalach</th>\n",
              "      <th>exang</th>\n",
              "      <th>oldpeak</th>\n",
              "      <th>slope</th>\n",
              "      <th>ca</th>\n",
              "      <th>thal</th>\n",
              "      <th>target</th>\n",
              "    </tr>\n",
              "  </thead>\n",
              "  <tbody>\n",
              "    <tr>\n",
              "      <th>81</th>\n",
              "      <td>45</td>\n",
              "      <td>1</td>\n",
              "      <td>1</td>\n",
              "      <td>128</td>\n",
              "      <td>308</td>\n",
              "      <td>0</td>\n",
              "      <td>0</td>\n",
              "      <td>170</td>\n",
              "      <td>0</td>\n",
              "      <td>0.0</td>\n",
              "      <td>2</td>\n",
              "      <td>0</td>\n",
              "      <td>2</td>\n",
              "      <td>1</td>\n",
              "    </tr>\n",
              "    <tr>\n",
              "      <th>220</th>\n",
              "      <td>63</td>\n",
              "      <td>0</td>\n",
              "      <td>0</td>\n",
              "      <td>150</td>\n",
              "      <td>407</td>\n",
              "      <td>0</td>\n",
              "      <td>0</td>\n",
              "      <td>154</td>\n",
              "      <td>0</td>\n",
              "      <td>4.0</td>\n",
              "      <td>1</td>\n",
              "      <td>3</td>\n",
              "      <td>3</td>\n",
              "      <td>0</td>\n",
              "    </tr>\n",
              "    <tr>\n",
              "      <th>268</th>\n",
              "      <td>54</td>\n",
              "      <td>1</td>\n",
              "      <td>0</td>\n",
              "      <td>122</td>\n",
              "      <td>286</td>\n",
              "      <td>0</td>\n",
              "      <td>0</td>\n",
              "      <td>116</td>\n",
              "      <td>1</td>\n",
              "      <td>3.2</td>\n",
              "      <td>1</td>\n",
              "      <td>2</td>\n",
              "      <td>2</td>\n",
              "      <td>0</td>\n",
              "    </tr>\n",
              "  </tbody>\n",
              "</table>\n",
              "</div>"
            ],
            "text/plain": [
              "     age  sex  cp  trestbps  chol  fbs  restecg  thalach  exang  oldpeak  \\\n",
              "81    45    1   1       128   308    0        0      170      0      0.0   \n",
              "220   63    0   0       150   407    0        0      154      0      4.0   \n",
              "268   54    1   0       122   286    0        0      116      1      3.2   \n",
              "\n",
              "     slope  ca  thal  target  \n",
              "81       2   0     2       1  \n",
              "220      1   3     3       0  \n",
              "268      1   2     2       0  "
            ]
          },
          "metadata": {
            "tags": []
          },
          "execution_count": 3
        }
      ]
    },
    {
      "metadata": {
        "id": "PrtcP2ISoo6B",
        "colab_type": "code",
        "colab": {
          "base_uri": "https://localhost:8080/",
          "height": 170
        },
        "outputId": "3666b192-4dfd-4c70-887d-4892a22e0eab"
      },
      "cell_type": "code",
      "source": [
        "y = to_categorical(df.target)\n",
        "X = df.drop('target', axis=1)\n",
        "print(\"X:\",X.sample(3))"
      ],
      "execution_count": 19,
      "outputs": [
        {
          "output_type": "stream",
          "text": [
            "X:      age  sex  cp  trestbps  chol  fbs  restecg  thalach  exang  oldpeak  \\\n",
            "152   64    1   3       170   227    0        0      155      0      0.6   \n",
            "145   70    1   1       156   245    0        0      143      0      0.0   \n",
            "265   66    1   0       112   212    0        0      132      1      0.1   \n",
            "\n",
            "     slope  ca  thal  \n",
            "152      1   0     3  \n",
            "145      2   0     2  \n",
            "265      2   1     2  \n"
          ],
          "name": "stdout"
        }
      ]
    },
    {
      "metadata": {
        "id": "9GWcvmK5xPpJ",
        "colab_type": "text"
      },
      "cell_type": "markdown",
      "source": [
        "2. What type of problem are we trying to solve here? Classification or regression?\n",
        "\n",
        "a.\tThis is classification problem where all the data classified in the target by value of 0 & 1."
      ]
    },
    {
      "metadata": {
        "id": "ESdTKCxmqJWk",
        "colab_type": "code",
        "colab": {}
      },
      "cell_type": "code",
      "source": [
        "x_train, x_test, y_train, y_test = train_test_split(X, y, test_size = 0.3)"
      ],
      "execution_count": 0,
      "outputs": []
    },
    {
      "metadata": {
        "id": "4TkSNGk1rj-t",
        "colab_type": "code",
        "colab": {
          "base_uri": "https://localhost:8080/",
          "height": 714
        },
        "outputId": "8a455fc9-e88c-4316-d176-86c60d9276c6"
      },
      "cell_type": "code",
      "source": [
        "n_cols = X.shape[1]\n",
        "model = Sequential()\n",
        "\n",
        "model.add(Dense(64, activation='relu', input_shape=(n_cols,)))\n",
        "model.add(Dropout(0.5))\n",
        "model.add(Dense(64, activation='relu'))\n",
        "model.add(Dropout(0.5))\n",
        "model.add(Dense(2, activation='softmax'))\n",
        "\n",
        "sgd = SGD(lr=0.01, decay=1e-6, momentum=0.9, nesterov=True)\n",
        "model.compile(loss='categorical_crossentropy',\n",
        "              optimizer=sgd,\n",
        "              metrics=['accuracy'])\n",
        "\n",
        "model.fit(x_train, y_train,\n",
        "          epochs=20,\n",
        "          batch_size=128)\n",
        "score = model.evaluate(x_test, y_test, batch_size=128)"
      ],
      "execution_count": 26,
      "outputs": [
        {
          "output_type": "stream",
          "text": [
            "Epoch 1/20\n",
            "212/212 [==============================] - 1s 2ms/step - loss: 8.8831 - acc: 0.3962\n",
            "Epoch 2/20\n",
            "212/212 [==============================] - 0s 37us/step - loss: 7.9934 - acc: 0.4858\n",
            "Epoch 3/20\n",
            "212/212 [==============================] - 0s 29us/step - loss: 7.9556 - acc: 0.5000\n",
            "Epoch 4/20\n",
            "212/212 [==============================] - 0s 25us/step - loss: 7.9961 - acc: 0.5000\n",
            "Epoch 5/20\n",
            "212/212 [==============================] - 0s 35us/step - loss: 8.0244 - acc: 0.5000\n",
            "Epoch 6/20\n",
            "212/212 [==============================] - 0s 33us/step - loss: 8.1994 - acc: 0.4811\n",
            "Epoch 7/20\n",
            "212/212 [==============================] - 0s 27us/step - loss: 8.1925 - acc: 0.4906\n",
            "Epoch 8/20\n",
            "212/212 [==============================] - 0s 25us/step - loss: 8.1353 - acc: 0.4953\n",
            "Epoch 9/20\n",
            "212/212 [==============================] - 0s 33us/step - loss: 8.4397 - acc: 0.4764\n",
            "Epoch 10/20\n",
            "212/212 [==============================] - 0s 35us/step - loss: 7.2988 - acc: 0.5472\n",
            "Epoch 11/20\n",
            "212/212 [==============================] - 0s 41us/step - loss: 8.0592 - acc: 0.5000\n",
            "Epoch 12/20\n",
            "212/212 [==============================] - 0s 37us/step - loss: 9.2755 - acc: 0.4245\n",
            "Epoch 13/20\n",
            "212/212 [==============================] - 0s 36us/step - loss: 7.3364 - acc: 0.5377\n",
            "Epoch 14/20\n",
            "212/212 [==============================] - 0s 38us/step - loss: 7.6916 - acc: 0.5189\n",
            "Epoch 15/20\n",
            "212/212 [==============================] - 0s 34us/step - loss: 7.9830 - acc: 0.5047\n",
            "Epoch 16/20\n",
            "212/212 [==============================] - 0s 42us/step - loss: 8.4392 - acc: 0.4764\n",
            "Epoch 17/20\n",
            "212/212 [==============================] - 0s 32us/step - loss: 7.9830 - acc: 0.5047\n",
            "Epoch 18/20\n",
            "212/212 [==============================] - 0s 31us/step - loss: 7.9070 - acc: 0.5094\n",
            "Epoch 19/20\n",
            "212/212 [==============================] - 0s 37us/step - loss: 7.2227 - acc: 0.5519\n",
            "Epoch 20/20\n",
            "212/212 [==============================] - 0s 32us/step - loss: 7.2988 - acc: 0.5472\n",
            "91/91 [==============================] - 0s 2ms/step\n"
          ],
          "name": "stdout"
        }
      ]
    },
    {
      "metadata": {
        "id": "2OgYONYmyALd",
        "colab_type": "text"
      },
      "cell_type": "markdown",
      "source": [
        "**4**.What is underfitting and overfitting?\n",
        "\n",
        "a.\t**Overfitting** refers to a model that models the training data too well. Overfitting happens when a model learns the detail and noise in the training data to the extent that it negatively impacts the performance of the model on new data.\n",
        "\n",
        "b.\t**Underfitting** refers to a model that can neither model the training data nor generalize to new data. An underfit machine learning model is not a suitable model and will be obvious as it will have poor performance on the training data.\n"
      ]
    },
    {
      "metadata": {
        "id": "Vry_sw5dyR8p",
        "colab_type": "text"
      },
      "cell_type": "markdown",
      "source": [
        "**5**.\tExplain how you can reduce the overfitting of the model.\n",
        "\n",
        "a.\t**split the data** into training set and test set randomly. Use the ratio 70% training set and 30% test set.\n",
        "\n",
        "b.\tUse the **cross-validation** to validate the model. Cross-validation is a powerful preventative measure against overfitting\n",
        "\n",
        "c.\t**Train with more data** feed more data during training.\n",
        "\n",
        "d.\t**Remove features** -you can manually improve their generalizability by removing irrelevant input features.\n",
        "\n",
        "e.\t**Early stopping** -Up until a certain number of iterations, new iterations improve the model. After that point, however, the model’s ability to generalize can weaken as it begins to overfit the training data\n"
      ]
    },
    {
      "metadata": {
        "id": "ev9mRs14xE4P",
        "colab_type": "text"
      },
      "cell_type": "markdown",
      "source": [
        ""
      ]
    }
  ]
}